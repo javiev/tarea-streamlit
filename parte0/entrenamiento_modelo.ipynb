{
  "cells": [
    {
      "cell_type": "code",
      "execution_count": null,
      "metadata": {
        "colab": {
          "base_uri": "https://localhost:8080/"
        },
        "id": "ShJxxmOOPFad",
        "outputId": "b73e4c3a-4b15-4075-f725-e97e1b73d8dd"
      },
      "outputs": [
        {
          "name": "stdout",
          "output_type": "stream",
          "text": [
            "Downloading data from https://www.cs.toronto.edu/~kriz/cifar-10-python.tar.gz\n",
            "170498071/170498071 [==============================] - 2s 0us/step\n",
            "Epoch 1/10\n",
            "1563/1563 [==============================] - 67s 42ms/step - loss: 1.5396 - accuracy: 0.4375 - val_loss: 1.2697 - val_accuracy: 0.5444\n",
            "Epoch 2/10\n",
            "1563/1563 [==============================] - 65s 42ms/step - loss: 1.1573 - accuracy: 0.5910 - val_loss: 1.1026 - val_accuracy: 0.6162\n",
            "Epoch 3/10\n",
            "1563/1563 [==============================] - 63s 40ms/step - loss: 1.0141 - accuracy: 0.6427 - val_loss: 1.0020 - val_accuracy: 0.6480\n",
            "Epoch 4/10\n",
            "1563/1563 [==============================] - 65s 42ms/step - loss: 0.9202 - accuracy: 0.6791 - val_loss: 1.0068 - val_accuracy: 0.6551\n",
            "Epoch 5/10\n",
            "1563/1563 [==============================] - 63s 40ms/step - loss: 0.8623 - accuracy: 0.6992 - val_loss: 0.9024 - val_accuracy: 0.6897\n",
            "Epoch 6/10\n",
            "1563/1563 [==============================] - 63s 41ms/step - loss: 0.8032 - accuracy: 0.7218 - val_loss: 0.8987 - val_accuracy: 0.6955\n",
            "Epoch 7/10\n",
            "1563/1563 [==============================] - 65s 41ms/step - loss: 0.7597 - accuracy: 0.7333 - val_loss: 0.8822 - val_accuracy: 0.6992\n",
            "Epoch 8/10\n",
            "1563/1563 [==============================] - 62s 40ms/step - loss: 0.7211 - accuracy: 0.7457 - val_loss: 0.8671 - val_accuracy: 0.7126\n",
            "Epoch 9/10\n",
            "1563/1563 [==============================] - 63s 40ms/step - loss: 0.6837 - accuracy: 0.7599 - val_loss: 0.8843 - val_accuracy: 0.7086\n",
            "Epoch 10/10\n",
            "1563/1563 [==============================] - 63s 41ms/step - loss: 0.6513 - accuracy: 0.7713 - val_loss: 0.8685 - val_accuracy: 0.7133\n",
            "313/313 - 4s - loss: 0.8685 - accuracy: 0.7133 - 4s/epoch - 12ms/step\n"
          ]
        }
      ],
      "source": [
        "import tensorflow as tf\n",
        "from tensorflow.keras.models import Sequential\n",
        "from tensorflow.keras.layers import Dense, Flatten, Conv2D, MaxPooling2D, Input\n",
        "from tensorflow.keras.datasets import cifar10\n",
        "from tensorflow.keras.utils import to_categorical\n",
        "\n",
        "# Cargar datos\n",
        "(x_train, y_train), (x_test, y_test) = cifar10.load_data()\n",
        "\n",
        "# Normalizar datos\n",
        "x_train, x_test = x_train / 255.0, x_test / 255.0\n",
        "y_train, y_test = to_categorical(y_train, 10), to_categorical(y_test, 10)\n",
        "\n",
        "# Construir el modelo\n",
        "model = Sequential([\n",
        "    Input(shape=(32, 32, 3)),\n",
        "    Conv2D(32, (3, 3), activation='relu'),\n",
        "    MaxPooling2D((2, 2)),\n",
        "    Conv2D(64, (3, 3), activation='relu'),\n",
        "    MaxPooling2D((2, 2)),\n",
        "    Flatten(),\n",
        "    Dense(64, activation='relu'),\n",
        "    Dense(10, activation='softmax')\n",
        "])\n",
        "\n",
        "# Compilar el modelo\n",
        "model.compile(optimizer='adam',\n",
        "              loss='categorical_crossentropy',\n",
        "              metrics=['accuracy'])\n",
        "\n",
        "# Entrenar el modelo\n",
        "model.fit(x_train, y_train, epochs=10, validation_data=(x_test, y_test))\n",
        "\n",
        "# Guardar el modelo\n",
        "model.save('model.keras')"
      ]
    }
  ],
  "metadata": {
    "colab": {
      "provenance": []
    },
    "kernelspec": {
      "display_name": "Python 3",
      "name": "python3"
    },
    "language_info": {
      "name": "python"
    }
  },
  "nbformat": 4,
  "nbformat_minor": 0
}
